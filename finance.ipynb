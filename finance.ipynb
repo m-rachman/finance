{
  "nbformat": 4,
  "nbformat_minor": 0,
  "metadata": {
    "colab": {
      "name": "finance.ipynb",
      "provenance": []
    },
    "kernelspec": {
      "name": "python3",
      "display_name": "Python 3"
    },
    "language_info": {
      "name": "python"
    }
  },
  "cells": [
    {
      "cell_type": "markdown",
      "source": [
        "#Present Value"
      ],
      "metadata": {
        "id": "4apIezmCMAfL"
      }
    },
    {
      "cell_type": "markdown",
      "source": [
        "Future value is a value of an investment or asset on a specific date in the future\n",
        "<br/>\n",
        "<br/>\n",
        "$$\n",
        "FV = PV (1+r)^n\n",
        "$$\n",
        "<br/>\n",
        "$FV$ = Future Value\n",
        "<br/>\n",
        "$PV$ = Present Value\n",
        "<br/>\n",
        "$r$ = Interest rate\n",
        "<br/>\n",
        "$n$ = Number of period"
      ],
      "metadata": {
        "id": "ruzmxqiaFb_m"
      }
    },
    {
      "cell_type": "markdown",
      "source": [
        "Calculating __Future Values__ (one period): You have 350 USD today and you save it for __one year__ at an interest rate of 3.5%."
      ],
      "metadata": {
        "id": "P5cbmNS6I_mp"
      }
    },
    {
      "cell_type": "code",
      "execution_count": 1,
      "metadata": {
        "colab": {
          "base_uri": "https://localhost:8080/"
        },
        "id": "B0-on7wwETBT",
        "outputId": "c22aa3c1-113c-4252-ec67-ba5a1b61f16b"
      },
      "outputs": [
        {
          "output_type": "execute_result",
          "data": {
            "text/plain": [
              "362.25"
            ]
          },
          "metadata": {},
          "execution_count": 1
        }
      ],
      "source": [
        "round(350 * (1 + 0.035),2)"
      ]
    },
    {
      "cell_type": "markdown",
      "source": [
        "Calculating __Future Values__ (many periods): You have 250 USD today and you save it for __three years__ at an interest rate of 3%."
      ],
      "metadata": {
        "id": "j6Cm8JUhKCLI"
      }
    },
    {
      "cell_type": "code",
      "source": [
        "round(250*(1.03**3),2)"
      ],
      "metadata": {
        "colab": {
          "base_uri": "https://localhost:8080/"
        },
        "id": "JsRnifWwJ3Ld",
        "outputId": "4b8f2d3c-146c-4b83-e848-e31e36905d5f"
      },
      "execution_count": 2,
      "outputs": [
        {
          "output_type": "execute_result",
          "data": {
            "text/plain": [
              "273.18"
            ]
          },
          "metadata": {},
          "execution_count": 2
        }
      ]
    },
    {
      "cell_type": "markdown",
      "source": [
        "# Present Value Discounting"
      ],
      "metadata": {
        "id": "wV2TDjQoMFnr"
      }
    },
    {
      "cell_type": "markdown",
      "source": [
        "$$\n",
        "PV = \\frac{FV}{(1+r)^n}\n",
        "$$\n",
        "<br/>\n",
        "Calculating __Present Values__ (one period): How many USD to save today at an interest rate of 4.5% p.a. to get 110 USD in __one year__?"
      ],
      "metadata": {
        "id": "6wllZJFyMKP3"
      }
    },
    {
      "cell_type": "code",
      "source": [
        "round(110 / (1 + 0.045),2)"
      ],
      "metadata": {
        "colab": {
          "base_uri": "https://localhost:8080/"
        },
        "id": "P_eGaNQoJP70",
        "outputId": "0dbffc13-31d3-4ec1-a7b0-c1744d27a967"
      },
      "execution_count": 3,
      "outputs": [
        {
          "output_type": "execute_result",
          "data": {
            "text/plain": [
              "105.26"
            ]
          },
          "metadata": {},
          "execution_count": 3
        }
      ]
    },
    {
      "cell_type": "markdown",
      "source": [
        "Calculating __Present Values__ (many periods): How many USD to save today at an interest rate of 4.5% p.a. to get 110 USD in __three years__?"
      ],
      "metadata": {
        "id": "bZkWY71DNrAE"
      }
    },
    {
      "cell_type": "code",
      "source": [
        "round((110 / 1.045**3),2)"
      ],
      "metadata": {
        "colab": {
          "base_uri": "https://localhost:8080/"
        },
        "id": "DgyyfRNaNDTG",
        "outputId": "9f4d728e-7af7-44a0-89eb-6015be76fcef"
      },
      "execution_count": 4,
      "outputs": [
        {
          "output_type": "execute_result",
          "data": {
            "text/plain": [
              "96.39"
            ]
          },
          "metadata": {},
          "execution_count": 4
        }
      ]
    },
    {
      "cell_type": "markdown",
      "source": [
        "# Interest Rate"
      ],
      "metadata": {
        "id": "-sDe6a--OkQ4"
      }
    },
    {
      "cell_type": "markdown",
      "source": [
        "$$\n",
        "r = (\\frac{FV}{PV})^\\frac{1}{n}-1\n",
        "$$\n",
        "\n",
        "Calculating __Interest Rates__ (one period): __Today__ you receive the offer to deposit 90 USD in a savings account, getting back 93.5 USD in __one year__."
      ],
      "metadata": {
        "id": "wYohmq8oOn-a"
      }
    },
    {
      "cell_type": "code",
      "source": [
        "round((93.5 / 90 - 1) * 100,2)"
      ],
      "metadata": {
        "colab": {
          "base_uri": "https://localhost:8080/"
        },
        "id": "3JSVQvW8Ny0e",
        "outputId": "79528f1c-414b-436d-d38c-06b0ffa7b0c0"
      },
      "execution_count": 5,
      "outputs": [
        {
          "output_type": "execute_result",
          "data": {
            "text/plain": [
              "3.89"
            ]
          },
          "metadata": {},
          "execution_count": 5
        }
      ]
    },
    {
      "cell_type": "markdown",
      "source": [
        "Calculating __Interest Rates__ (many periods): __Today__ you receive the offer to deposit 90 USD in a savings account, getting back 93.5 USD in __three years__.\n"
      ],
      "metadata": {
        "id": "gBNUZnhKiHYg"
      }
    },
    {
      "cell_type": "code",
      "source": [
        "r = (150 / 80)**(1/3) - 1 "
      ],
      "metadata": {
        "id": "0lgpxROShThI"
      },
      "execution_count": 6,
      "outputs": []
    },
    {
      "cell_type": "code",
      "source": [
        "round(80 * (1 + r)**3)"
      ],
      "metadata": {
        "colab": {
          "base_uri": "https://localhost:8080/"
        },
        "id": "HLCXQYSPiNqJ",
        "outputId": "2a4cfdf0-f4ae-4081-b2af-0c90fb4ab3bc"
      },
      "execution_count": 7,
      "outputs": [
        {
          "output_type": "execute_result",
          "data": {
            "text/plain": [
              "150"
            ]
          },
          "metadata": {},
          "execution_count": 7
        }
      ]
    },
    {
      "cell_type": "markdown",
      "source": [
        "# FV with many Cashflow"
      ],
      "metadata": {
        "id": "F4IhBgBTCbBe"
      }
    },
    {
      "cell_type": "markdown",
      "source": [
        "$$\n",
        "FVn = \\sum_{t=0}^n CFt * (1+r)^{n-t}\n",
        "$$\n",
        "<br/>\n",
        "$FV$ = Future Value at n\n",
        "<br/>\n",
        "$CFt$ = Cashflow at timestamp t\n",
        "<br/>\n",
        "$N$ = Total Number of period \n",
        "<br/>\n",
        "$r$ = Interest rate\n",
        "<br/>\n",
        "$t$ = Timestamp"
      ],
      "metadata": {
        "id": "19OiXDpxBZrA"
      }
    },
    {
      "cell_type": "markdown",
      "source": [
        "Today you have 100 USD in your savings account and you save another \n",
        "- 10 USD in t1 \n",
        "- 20 USD in t2\n",
        "- 50 USD in t3 \n",
        "- 30 USD in t4 \n",
        "- 25 USD in t5. (each cf at period´s end)\n",
        "\n",
        "Calculate the __FV__ of your savings account __after 5 years__ given an interest rate of __3% p.a.__"
      ],
      "metadata": {
        "id": "3bYzs5loDTSX"
      }
    },
    {
      "cell_type": "code",
      "source": [
        "cf = [100, 10, 20, 50, 30, 25]\n",
        "n = list(range(6))\n",
        "n = n[::-1]\n",
        "f = 1.03"
      ],
      "metadata": {
        "id": "ld-H-37ZizFr"
      },
      "execution_count": 8,
      "outputs": []
    },
    {
      "cell_type": "code",
      "source": [
        "FV = 0\n",
        "for i in range(6):\n",
        "    FV += cf[i] * f**n[i]\n",
        "    print(f'FV of t{i} = {round(FV,2)}')"
      ],
      "metadata": {
        "colab": {
          "base_uri": "https://localhost:8080/"
        },
        "id": "MbTRSToaDzWs",
        "outputId": "62dafac5-7fc3-43e8-d73a-e3f91cef8160"
      },
      "execution_count": 9,
      "outputs": [
        {
          "output_type": "stream",
          "name": "stdout",
          "text": [
            "FV of t0 = 115.93\n",
            "FV of t1 = 127.18\n",
            "FV of t2 = 149.04\n",
            "FV of t3 = 202.08\n",
            "FV of t4 = 232.98\n",
            "FV of t5 = 257.98\n"
          ]
        }
      ]
    },
    {
      "cell_type": "code",
      "source": [
        "FV = 0\n",
        "for i in range(6):\n",
        "    FV += cf[i] * f**n[i]\n",
        "\n",
        "print(f'sum of FV in 5 years {round(FV,2)}')"
      ],
      "metadata": {
        "colab": {
          "base_uri": "https://localhost:8080/"
        },
        "id": "DTz802WpD-Jh",
        "outputId": "29583a64-50d7-4f30-9d77-8c8891ac1390"
      },
      "execution_count": 10,
      "outputs": [
        {
          "output_type": "stream",
          "name": "stdout",
          "text": [
            "sum of FV in 5 years 257.98\n"
          ]
        }
      ]
    },
    {
      "cell_type": "markdown",
      "source": [
        "# NPV (Net Present Value)"
      ],
      "metadata": {
        "id": "Q8jqdJxDWyFA"
      }
    },
    {
      "cell_type": "markdown",
      "source": [
        "Net present value is the present value of the cash flows at the required rate of return of your project compared to your initial investment. The NPV relies on a discount rate that may be derived from the cost of the capital required to invest, and any project or investment with a negative NPV should be avoided.\n",
        "\n",
        "$$\n",
        "NPV = I+\\sum_{t=1}^n\\frac{CFt}{1+r^t}\n",
        "$$\n",
        "<br/>\n",
        "$I$ = Initial Investment\n",
        "<br/>\n",
        "$CFt$ = cashflow\n",
        "<br/>\n",
        "$N$ = Total Number of Period\n",
        "<br/>\n",
        "$r$ = Required Rate of Return\n",
        "<br/>\n",
        "$t$ = timestamp"
      ],
      "metadata": {
        "id": "fE_GXcbMW3NA"
      }
    },
    {
      "cell_type": "markdown",
      "source": [
        "The XYZ Company evaluates to buy an additional machine that will increase future profits/cashflows by\n",
        "- 20 USD in t1, \n",
        "- 50 USD in t2,\n",
        "- 70 USD in t3, \n",
        "- 100 USD in t4,\n",
        "- 50 USD in t5. (each cf at period´s end)<br>\n",
        "\n",
        "The machine costs __200 USD__ (Investment in to). Calculate the Project´s __NPV__ and evaluate whether XYZ should pursue the project. <br> XYZ´s required rate of return (Cost of Capital) is __6%__ p.a. "
      ],
      "metadata": {
        "id": "JnKJcbV7W-bd"
      }
    },
    {
      "cell_type": "code",
      "source": [
        "cf = [-200, 20, 50, 70, 100, 50]\n",
        "f = 1.06\n",
        "NPV = 0\n",
        "for i in range(6):\n",
        "    NPV += cf[i] / f**(i)\n",
        "print(NPV)"
      ],
      "metadata": {
        "colab": {
          "base_uri": "https://localhost:8080/"
        },
        "id": "OR8UiRA-EJGn",
        "outputId": "ce796065-8a2f-4859-dcd6-9005b6503362"
      },
      "execution_count": 11,
      "outputs": [
        {
          "output_type": "stream",
          "name": "stdout",
          "text": [
            "38.71337130837991\n"
          ]
        }
      ]
    },
    {
      "cell_type": "markdown",
      "source": [
        "it's good business because NPV is positive. how about change with a purchase price of __250 USD__?"
      ],
      "metadata": {
        "id": "p0FoP9olXlBA"
      }
    },
    {
      "cell_type": "code",
      "source": [
        "cf[0] = -250\n",
        "NPV = 0\n",
        "for i in range(6):\n",
        "    NPV += cf[i] / f**(i)\n",
        "print(NPV)"
      ],
      "metadata": {
        "colab": {
          "base_uri": "https://localhost:8080/"
        },
        "id": "XALZM90vXIrQ",
        "outputId": "8777da0d-44d5-48bc-fba6-29f858949fc6"
      },
      "execution_count": 12,
      "outputs": [
        {
          "output_type": "stream",
          "name": "stdout",
          "text": [
            "-11.286628691620088\n"
          ]
        }
      ]
    },
    {
      "cell_type": "markdown",
      "source": [
        "if the purchase price is __250 USD__, it's not a good deal because the NPV is negative"
      ],
      "metadata": {
        "id": "n5h7sCR0X7M9"
      }
    },
    {
      "cell_type": "code",
      "source": [
        ""
      ],
      "metadata": {
        "id": "Ye-ZOmlCj8fX"
      },
      "execution_count": null,
      "outputs": []
    }
  ]
}