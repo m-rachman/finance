{
  "nbformat": 4,
  "nbformat_minor": 0,
  "metadata": {
    "colab": {
      "name": "finance.ipynb",
      "provenance": []
    },
    "kernelspec": {
      "name": "python3",
      "display_name": "Python 3"
    },
    "language_info": {
      "name": "python"
    }
  },
  "cells": [
    {
      "cell_type": "code",
      "source": [
        "import numpy as np"
      ],
      "metadata": {
        "id": "gvUVJoIs87Em"
      },
      "execution_count": 1,
      "outputs": []
    },
    {
      "cell_type": "markdown",
      "source": [
        "#Present Value"
      ],
      "metadata": {
        "id": "4apIezmCMAfL"
      }
    },
    {
      "cell_type": "markdown",
      "source": [
        "Future value is a value of an investment or asset on a specific date in the future\n",
        "<br/>\n",
        "<br/>\n",
        "$$\n",
        "FV = PV (1+r)^n\n",
        "$$\n",
        "<br/>\n",
        "$FV$ = Future Value\n",
        "<br/>\n",
        "$PV$ = Present Value\n",
        "<br/>\n",
        "$r$ = Interest rate\n",
        "<br/>\n",
        "$n$ = Number of period"
      ],
      "metadata": {
        "id": "ruzmxqiaFb_m"
      }
    },
    {
      "cell_type": "markdown",
      "source": [
        "Calculating __Future Values__ (one period): You have 350 USD today and you save it for __one year__ at an interest rate of 3.5%."
      ],
      "metadata": {
        "id": "P5cbmNS6I_mp"
      }
    },
    {
      "cell_type": "code",
      "execution_count": 2,
      "metadata": {
        "colab": {
          "base_uri": "https://localhost:8080/"
        },
        "id": "B0-on7wwETBT",
        "outputId": "b38a0e2c-126a-4631-9011-7e88dd53abb1"
      },
      "outputs": [
        {
          "output_type": "execute_result",
          "data": {
            "text/plain": [
              "362.25"
            ]
          },
          "metadata": {},
          "execution_count": 2
        }
      ],
      "source": [
        "round(350 * (1 + 0.035),2)"
      ]
    },
    {
      "cell_type": "markdown",
      "source": [
        "Calculating __Future Values__ (many periods): You have 250 USD today and you save it for __three years__ at an interest rate of 3%."
      ],
      "metadata": {
        "id": "j6Cm8JUhKCLI"
      }
    },
    {
      "cell_type": "code",
      "source": [
        "round(250*(1.03**3),2)"
      ],
      "metadata": {
        "colab": {
          "base_uri": "https://localhost:8080/"
        },
        "id": "JsRnifWwJ3Ld",
        "outputId": "f89236c8-4c5d-4fef-ab22-d8d8abdd4e07"
      },
      "execution_count": 3,
      "outputs": [
        {
          "output_type": "execute_result",
          "data": {
            "text/plain": [
              "273.18"
            ]
          },
          "metadata": {},
          "execution_count": 3
        }
      ]
    },
    {
      "cell_type": "markdown",
      "source": [
        "# Present Value Discounting"
      ],
      "metadata": {
        "id": "wV2TDjQoMFnr"
      }
    },
    {
      "cell_type": "markdown",
      "source": [
        "$$\n",
        "PV = \\frac{FV}{(1+r)^n}\n",
        "$$\n",
        "<br/>\n",
        "Calculating __Present Values__ (one period): How many USD to save today at an interest rate of 4.5% p.a. to get 110 USD in __one year__?"
      ],
      "metadata": {
        "id": "6wllZJFyMKP3"
      }
    },
    {
      "cell_type": "code",
      "source": [
        "round(110 / (1 + 0.045),2)"
      ],
      "metadata": {
        "colab": {
          "base_uri": "https://localhost:8080/"
        },
        "id": "P_eGaNQoJP70",
        "outputId": "956dda4d-9c83-4c75-8193-2cc8c6edabb7"
      },
      "execution_count": 4,
      "outputs": [
        {
          "output_type": "execute_result",
          "data": {
            "text/plain": [
              "105.26"
            ]
          },
          "metadata": {},
          "execution_count": 4
        }
      ]
    },
    {
      "cell_type": "markdown",
      "source": [
        "Calculating __Present Values__ (many periods): How many USD to save today at an interest rate of 4.5% p.a. to get 110 USD in __three years__?"
      ],
      "metadata": {
        "id": "bZkWY71DNrAE"
      }
    },
    {
      "cell_type": "code",
      "source": [
        "round((110 / 1.045**3),2)"
      ],
      "metadata": {
        "colab": {
          "base_uri": "https://localhost:8080/"
        },
        "id": "DgyyfRNaNDTG",
        "outputId": "b00dfcf8-c6da-4888-ce48-a239d721b51d"
      },
      "execution_count": 5,
      "outputs": [
        {
          "output_type": "execute_result",
          "data": {
            "text/plain": [
              "96.39"
            ]
          },
          "metadata": {},
          "execution_count": 5
        }
      ]
    },
    {
      "cell_type": "markdown",
      "source": [
        "# Interest Rate"
      ],
      "metadata": {
        "id": "-sDe6a--OkQ4"
      }
    },
    {
      "cell_type": "markdown",
      "source": [
        "$$\n",
        "r = (\\frac{FV}{PV})^\\frac{1}{n}-1\n",
        "$$\n",
        "\n",
        "Calculating __Interest Rates__ (one period): __Today__ you receive the offer to deposit 90 USD in a savings account, getting back 93.5 USD in __one year__."
      ],
      "metadata": {
        "id": "wYohmq8oOn-a"
      }
    },
    {
      "cell_type": "code",
      "source": [
        "round((93.5 / 90 - 1) * 100,2)"
      ],
      "metadata": {
        "colab": {
          "base_uri": "https://localhost:8080/"
        },
        "id": "3JSVQvW8Ny0e",
        "outputId": "818795e7-ef92-4b5b-f88e-8ad3c182f29f"
      },
      "execution_count": 6,
      "outputs": [
        {
          "output_type": "execute_result",
          "data": {
            "text/plain": [
              "3.89"
            ]
          },
          "metadata": {},
          "execution_count": 6
        }
      ]
    },
    {
      "cell_type": "markdown",
      "source": [
        "Calculating __Interest Rates__ (many periods): __Today__ you receive the offer to deposit 90 USD in a savings account, getting back 93.5 USD in __three years__.\n"
      ],
      "metadata": {
        "id": "gBNUZnhKiHYg"
      }
    },
    {
      "cell_type": "code",
      "source": [
        "r = (150 / 80)**(1/3) - 1 "
      ],
      "metadata": {
        "id": "0lgpxROShThI"
      },
      "execution_count": 7,
      "outputs": []
    },
    {
      "cell_type": "code",
      "source": [
        "round(80 * (1 + r)**3)"
      ],
      "metadata": {
        "colab": {
          "base_uri": "https://localhost:8080/"
        },
        "id": "HLCXQYSPiNqJ",
        "outputId": "ba33c607-c88e-429f-eadb-75d72ca822cd"
      },
      "execution_count": 8,
      "outputs": [
        {
          "output_type": "execute_result",
          "data": {
            "text/plain": [
              "150"
            ]
          },
          "metadata": {},
          "execution_count": 8
        }
      ]
    },
    {
      "cell_type": "markdown",
      "source": [
        "# FV with many Cashflow"
      ],
      "metadata": {
        "id": "F4IhBgBTCbBe"
      }
    },
    {
      "cell_type": "markdown",
      "source": [
        "$$\n",
        "FVn = \\sum_{t=0}^n CFt * (1+r)^{n-t}\n",
        "$$\n",
        "<br/>\n",
        "$FV$ = Future Value at n\n",
        "<br/>\n",
        "$CFt$ = Cashflow at timestamp t\n",
        "<br/>\n",
        "$N$ = Total Number of period \n",
        "<br/>\n",
        "$r$ = Interest rate\n",
        "<br/>\n",
        "$t$ = Timestamp"
      ],
      "metadata": {
        "id": "19OiXDpxBZrA"
      }
    },
    {
      "cell_type": "markdown",
      "source": [
        "Today you have 100 USD in your savings account and you save another \n",
        "- 10 USD in t1 \n",
        "- 20 USD in t2\n",
        "- 50 USD in t3 \n",
        "- 30 USD in t4 \n",
        "- 25 USD in t5. (each cf at period´s end)\n",
        "\n",
        "Calculate the __FV__ of your savings account __after 5 years__ given an interest rate of __3% p.a.__"
      ],
      "metadata": {
        "id": "3bYzs5loDTSX"
      }
    },
    {
      "cell_type": "code",
      "source": [
        "cf = [100, 10, 20, 50, 30, 25]\n",
        "n = list(range(6))\n",
        "n = n[::-1]\n",
        "f = 1.03"
      ],
      "metadata": {
        "id": "ld-H-37ZizFr"
      },
      "execution_count": 9,
      "outputs": []
    },
    {
      "cell_type": "code",
      "source": [
        "FV = 0\n",
        "for i in range(6):\n",
        "    FV += cf[i] * f**n[i]\n",
        "    print(f'FV of t{i} = {round(FV,2)}')"
      ],
      "metadata": {
        "colab": {
          "base_uri": "https://localhost:8080/"
        },
        "id": "MbTRSToaDzWs",
        "outputId": "2a3d22ab-ed9e-42e5-b0c0-c715e4cc1d62"
      },
      "execution_count": 10,
      "outputs": [
        {
          "output_type": "stream",
          "name": "stdout",
          "text": [
            "FV of t0 = 115.93\n",
            "FV of t1 = 127.18\n",
            "FV of t2 = 149.04\n",
            "FV of t3 = 202.08\n",
            "FV of t4 = 232.98\n",
            "FV of t5 = 257.98\n"
          ]
        }
      ]
    },
    {
      "cell_type": "code",
      "source": [
        "FV = 0\n",
        "for i in range(6):\n",
        "    FV += cf[i] * f**n[i]\n",
        "\n",
        "print(f'sum of FV in 5 years {round(FV,2)}')"
      ],
      "metadata": {
        "colab": {
          "base_uri": "https://localhost:8080/"
        },
        "id": "DTz802WpD-Jh",
        "outputId": "c6c8b07a-96af-4980-f6e8-886feaec74b5"
      },
      "execution_count": 11,
      "outputs": [
        {
          "output_type": "stream",
          "name": "stdout",
          "text": [
            "sum of FV in 5 years 257.98\n"
          ]
        }
      ]
    },
    {
      "cell_type": "markdown",
      "source": [
        "# NPV (Net Present Value)"
      ],
      "metadata": {
        "id": "Q8jqdJxDWyFA"
      }
    },
    {
      "cell_type": "markdown",
      "source": [
        "Net present value is the present value of the cash flows at the required rate of return of your project compared to your initial investment. The NPV relies on a discount rate that may be derived from the cost of the capital required to invest, and any project or investment with a negative NPV should be avoided.\n",
        "\n",
        "$$\n",
        "NPV = I+\\sum_{t=1}^n\\frac{CFt}{1+r^t}\n",
        "$$\n",
        "<br/>\n",
        "$I$ = Initial Investment\n",
        "<br/>\n",
        "$CFt$ = cashflow\n",
        "<br/>\n",
        "$N$ = Total Number of Period\n",
        "<br/>\n",
        "$r$ = Required Rate of Return\n",
        "<br/>\n",
        "$t$ = timestamp"
      ],
      "metadata": {
        "id": "fE_GXcbMW3NA"
      }
    },
    {
      "cell_type": "markdown",
      "source": [
        "The XYZ Company evaluates to buy an additional machine that will increase future profits/cashflows by\n",
        "- 20 USD in t1, \n",
        "- 50 USD in t2,\n",
        "- 70 USD in t3, \n",
        "- 100 USD in t4,\n",
        "- 50 USD in t5. (each cf at period´s end)<br>\n",
        "\n",
        "The machine costs __200 USD__ (Investment in to). Calculate the Project´s __NPV__ and evaluate whether XYZ should pursue the project. <br> XYZ´s required rate of return (Cost of Capital) is __6%__ p.a. "
      ],
      "metadata": {
        "id": "JnKJcbV7W-bd"
      }
    },
    {
      "cell_type": "code",
      "source": [
        "cf = [-200, 20, 50, 70, 100, 50]\n",
        "f = 1.06\n",
        "NPV = 0\n",
        "for i in range(6):\n",
        "    NPV += cf[i] / f**(i)\n",
        "print(NPV)"
      ],
      "metadata": {
        "colab": {
          "base_uri": "https://localhost:8080/"
        },
        "id": "OR8UiRA-EJGn",
        "outputId": "491831be-8308-4eae-8533-45e63a40e15b"
      },
      "execution_count": 12,
      "outputs": [
        {
          "output_type": "stream",
          "name": "stdout",
          "text": [
            "38.71337130837991\n"
          ]
        }
      ]
    },
    {
      "cell_type": "markdown",
      "source": [
        "it's good business because NPV is positive. how about change with a purchase price of __250 USD__?"
      ],
      "metadata": {
        "id": "p0FoP9olXlBA"
      }
    },
    {
      "cell_type": "code",
      "source": [
        "cf[0] = -250\n",
        "NPV = 0\n",
        "for i in range(6):\n",
        "    NPV += cf[i] / f**(i)\n",
        "print(NPV)"
      ],
      "metadata": {
        "colab": {
          "base_uri": "https://localhost:8080/"
        },
        "id": "XALZM90vXIrQ",
        "outputId": "7f7b5c22-b071-4af5-fd5a-bdb40f916f60"
      },
      "execution_count": 13,
      "outputs": [
        {
          "output_type": "stream",
          "name": "stdout",
          "text": [
            "-11.286628691620088\n"
          ]
        }
      ]
    },
    {
      "cell_type": "markdown",
      "source": [
        "if the purchase price is __250 USD__, it's not a good deal because the NPV is negative"
      ],
      "metadata": {
        "id": "n5h7sCR0X7M9"
      }
    },
    {
      "cell_type": "code",
      "source": [
        "!pip install numpy-financial"
      ],
      "metadata": {
        "id": "Ye-ZOmlCj8fX",
        "colab": {
          "base_uri": "https://localhost:8080/"
        },
        "outputId": "57989f45-05a6-44dd-eccf-0328ed96ff84"
      },
      "execution_count": 14,
      "outputs": [
        {
          "output_type": "stream",
          "name": "stdout",
          "text": [
            "Requirement already satisfied: numpy-financial in /usr/local/lib/python3.7/dist-packages (1.0.0)\n",
            "Requirement already satisfied: numpy>=1.15 in /usr/local/lib/python3.7/dist-packages (from numpy-financial) (1.19.5)\n"
          ]
        }
      ]
    },
    {
      "cell_type": "code",
      "source": [
        "import numpy_financial as npf"
      ],
      "metadata": {
        "id": "igOtQKrhndMj"
      },
      "execution_count": 15,
      "outputs": []
    },
    {
      "cell_type": "markdown",
      "source": [
        "with numpy financial we can calculate a certain of financial problem such as npv, irr and etc"
      ],
      "metadata": {
        "id": "sY3wzj-NofK4"
      }
    },
    {
      "cell_type": "code",
      "source": [
        "cf = [-200, 20, 50, 70, 100, 50]\n",
        "r = 0.06\n",
        "npf.npv(r, cf)"
      ],
      "metadata": {
        "colab": {
          "base_uri": "https://localhost:8080/"
        },
        "id": "2FooHW3MngMf",
        "outputId": "aa7b2082-fb60-4779-c210-9b406ed4d6a2"
      },
      "execution_count": 16,
      "outputs": [
        {
          "output_type": "execute_result",
          "data": {
            "text/plain": [
              "38.71337130837991"
            ]
          },
          "metadata": {},
          "execution_count": 16
        }
      ]
    },
    {
      "cell_type": "code",
      "source": [
        "npf.npv(r, cf) > 0 "
      ],
      "metadata": {
        "colab": {
          "base_uri": "https://localhost:8080/"
        },
        "id": "p7oaS8H3nsZO",
        "outputId": "553ae792-84a7-4af0-bdff-061ba87de072"
      },
      "execution_count": 17,
      "outputs": [
        {
          "output_type": "execute_result",
          "data": {
            "text/plain": [
              "True"
            ]
          },
          "metadata": {},
          "execution_count": 17
        }
      ]
    },
    {
      "cell_type": "markdown",
      "source": [
        "# IRR (Internal Rate Of Return)"
      ],
      "metadata": {
        "id": "72NFdR8trinn"
      }
    },
    {
      "cell_type": "markdown",
      "source": [
        "Internal rate of return (IRR) is a method of calculating an investment’s rate of return. The term internal refers to the fact that the calculation excludes external factors, such as the risk-free rate, inflation, the cost of capital, or financial risk."
      ],
      "metadata": {
        "id": "O5pUwbqypWaT"
      }
    },
    {
      "cell_type": "code",
      "source": [
        "npf.irr(cf)"
      ],
      "metadata": {
        "colab": {
          "base_uri": "https://localhost:8080/"
        },
        "id": "dZ8RkoXSoDYR",
        "outputId": "515db2af-2f82-426c-cde2-91b32ebca082"
      },
      "execution_count": 18,
      "outputs": [
        {
          "output_type": "execute_result",
          "data": {
            "text/plain": [
              "0.11906939883317014"
            ]
          },
          "metadata": {},
          "execution_count": 18
        }
      ]
    },
    {
      "cell_type": "code",
      "source": [
        "npf.irr(cf) > r"
      ],
      "metadata": {
        "colab": {
          "base_uri": "https://localhost:8080/"
        },
        "id": "-wUPOQSOpSQC",
        "outputId": "248b0cb0-7836-4b8b-b46a-17e30d986cd8"
      },
      "execution_count": 19,
      "outputs": [
        {
          "output_type": "execute_result",
          "data": {
            "text/plain": [
              "True"
            ]
          },
          "metadata": {},
          "execution_count": 19
        }
      ]
    },
    {
      "cell_type": "markdown",
      "source": [
        "# Evaluating Annuities"
      ],
      "metadata": {
        "id": "K9tzU3GN8v9X"
      }
    },
    {
      "cell_type": "markdown",
      "source": [
        "I've a pension plan to save 2,000 USD p.a. for the next 25 Years (payment at year end) and get an interest rate of 3% p.a. on your savings. <br>\n",
        "What is the value of your savings account (__FV__) in 25 years?"
      ],
      "metadata": {
        "id": "6PiTmbnt8yCR"
      }
    },
    {
      "cell_type": "code",
      "source": [
        "PV = 0\n",
        "cf = -2000 # this is minus because from our perspective this is an outflow \n",
        "r = 0.03\n",
        "n = 25\n",
        "FV = npf.fv(rate = r, nper = n, pmt = cf, pv = PV)\n",
        "FV"
      ],
      "metadata": {
        "colab": {
          "base_uri": "https://localhost:8080/"
        },
        "id": "ho4LySoZpU88",
        "outputId": "9f1af3d8-afe8-42ec-add4-73a83f771831"
      },
      "execution_count": 20,
      "outputs": [
        {
          "output_type": "execute_result",
          "data": {
            "text/plain": [
              "72918.52864361441"
            ]
          },
          "metadata": {},
          "execution_count": 20
        }
      ]
    },
    {
      "cell_type": "markdown",
      "source": [
        "Same Problem, but now i've start with an initial balance of 10,000 USD."
      ],
      "metadata": {
        "id": "i1EwhlRu-iDj"
      }
    },
    {
      "cell_type": "code",
      "source": [
        "PV = -10000\n",
        "cf = -2000\n",
        "r = 0.03\n",
        "n = 25\n",
        "FV = npf.fv(rate = r, nper = n, pmt = cf, pv = PV)\n",
        "FV"
      ],
      "metadata": {
        "colab": {
          "base_uri": "https://localhost:8080/"
        },
        "id": "SbOOETR-9eDd",
        "outputId": "5d54bec8-e563-4286-962e-11c68e3c8572"
      },
      "execution_count": 21,
      "outputs": [
        {
          "output_type": "execute_result",
          "data": {
            "text/plain": [
              "93856.30794015658"
            ]
          },
          "metadata": {},
          "execution_count": 21
        }
      ]
    },
    {
      "cell_type": "markdown",
      "source": [
        "I've project an Annuity Contract and spend 100,000 USD. Assume you get payouts of 5,000 USD p.a. and a fixed interest rate of 3% p.a.\n",
        "What is the remaining value of your Contract after 25 years?"
      ],
      "metadata": {
        "id": "Df7PmmlOAJZ9"
      }
    },
    {
      "cell_type": "code",
      "source": [
        "PV = -100000\n",
        "cf = 5000\n",
        "r = 0.03\n",
        "n = 25\n",
        "FV = npf.fv(rate = r, nper = n, pmt = cf, pv = PV)\n",
        "FV"
      ],
      "metadata": {
        "colab": {
          "base_uri": "https://localhost:8080/"
        },
        "id": "mCF0_uvw-gpk",
        "outputId": "d3d5b8cf-b1bf-4fdf-cad4-a6da5d69fb82"
      },
      "execution_count": 22,
      "outputs": [
        {
          "output_type": "execute_result",
          "data": {
            "text/plain": [
              "27081.47135638559"
            ]
          },
          "metadata": {},
          "execution_count": 22
        }
      ]
    },
    {
      "cell_type": "markdown",
      "source": [
        "You consider to pay 25 annual installments (in arrears) into an Annuity Contract with an interest rate of 3% p.a. Calculate the annual payments to end up with a Contract Value of 100,000 USD in 25 years. "
      ],
      "metadata": {
        "id": "Ptzbb5oZC1Ly"
      }
    },
    {
      "cell_type": "code",
      "source": [
        "PV = 0\n",
        "FV = 100000\n",
        "n = 25\n",
        "r = 0.03\n",
        "cf = npf.pmt(rate = r, nper = n, pv = PV, fv = FV)\n",
        "cf"
      ],
      "metadata": {
        "colab": {
          "base_uri": "https://localhost:8080/"
        },
        "id": "6V1C5IXPAPiM",
        "outputId": "df13ec0c-66ec-4948-92ff-441c019c9455"
      },
      "execution_count": 23,
      "outputs": [
        {
          "output_type": "execute_result",
          "data": {
            "text/plain": [
              "-2742.7871039127763"
            ]
          },
          "metadata": {},
          "execution_count": 23
        }
      ]
    },
    {
      "cell_type": "code",
      "source": [
        ""
      ],
      "metadata": {
        "id": "20tTKKxMENI6"
      },
      "execution_count": 23,
      "outputs": []
    }
  ]
}